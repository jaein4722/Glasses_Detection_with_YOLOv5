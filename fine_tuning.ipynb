{
 "cells": [
  {
   "cell_type": "code",
   "execution_count": 2,
   "metadata": {},
   "outputs": [
    {
     "name": "stdout",
     "output_type": "stream",
     "text": [
      "/Users/leejaein/Documents/Class/3-2/EmbeddedAI/Project/Glasses_Detection_with_YOLOv5/yolov5\n"
     ]
    }
   ],
   "source": [
    "%cd yolov5"
   ]
  },
  {
   "cell_type": "code",
   "execution_count": null,
   "metadata": {},
   "outputs": [],
   "source": [
    "!python3 train.py --img 640 --epochs 30 --data data/glasses.yaml --weights weights/yolov5n.pt --device cuda:0"
   ]
  },
  {
   "cell_type": "code",
   "execution_count": 3,
   "metadata": {},
   "outputs": [
    {
     "name": "stdout",
     "output_type": "stream",
     "text": [
      "\u001b[34m\u001b[1mtrain_knowledge_distillation: \u001b[0mweights=weights/yolov5n.pt, teacher_weight=weights/yolov5s.pt, cfg=, data=data/glasses.yaml, hyp=data/hyps/hyp.scratch.yaml, epochs=30, batch_size=16, imgsz=640, rect=False, resume=False, nosave=False, noval=False, noautoanchor=False, evolve=None, bucket=, cache=None, image_weights=False, device=cuda:0, multi_scale=False, single_cls=False, optimizer=SGD, sync_bn=False, workers=8, project=runs/train, name=exp, exist_ok=False, quad=False, linear_lr=False, label_smoothing=0.0, patience=100, freeze=[0], save_period=-1, local_rank=-1, entity=None, upload_dataset=False, bbox_interval=-1, artifact_alias=latest\n",
      "\u001b[34m\u001b[1mgithub: \u001b[0mskipping check (not a git repository), for updates see https://github.com/ultralytics/yolov5\n",
      "\u001b[31m\u001b[1mrequirements:\u001b[0m wandb not found and is required by YOLOv5, attempting auto-update...\n",
      "\u001b[31m\u001b[1mrequirements:\u001b[0m 'pip install wandb' skipped (offline)\n",
      "Traceback (most recent call last):\n",
      "  File \"train_knowledge_distillation.py\", line 683, in <module>\n",
      "    main(opt)\n",
      "  File \"train_knowledge_distillation.py\", line 568, in main\n",
      "    device = select_device(opt.device, batch_size=opt.batch_size)\n",
      "  File \"/Users/leejaein/Documents/Class/3-2/EmbeddedAI/Project/Glasses_Detection_with_YOLOv5/yolov5/utils/torch_utils.py\", line 65, in select_device\n",
      "    assert torch.cuda.is_available(), 'CUDA is not available, use `--device cpu` or do not pass a --device'\n",
      "AssertionError: CUDA is not available, use `--device cpu` or do not pass a --device\n"
     ]
    }
   ],
   "source": [
    "!python3 train_knowledge_distillation.py --img 640 --epochs 30 --data data/glasses.yaml --weights weights/yolov5n.pt \\\n",
    "--teacher_weight weights/yolov5s.pt --device cuda:0"
   ]
  },
  {
   "cell_type": "code",
   "execution_count": null,
   "metadata": {},
   "outputs": [],
   "source": []
  }
 ],
 "metadata": {
  "kernelspec": {
   "display_name": "EAI",
   "language": "python",
   "name": "python3"
  },
  "language_info": {
   "codemirror_mode": {
    "name": "ipython",
    "version": 3
   },
   "file_extension": ".py",
   "mimetype": "text/x-python",
   "name": "python",
   "nbconvert_exporter": "python",
   "pygments_lexer": "ipython3",
   "version": "3.8.20"
  }
 },
 "nbformat": 4,
 "nbformat_minor": 2
}
